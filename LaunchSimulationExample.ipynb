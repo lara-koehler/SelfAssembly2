{
 "cells": [
  {
   "cell_type": "markdown",
   "id": "2dbdbafe",
   "metadata": {},
   "source": [
    "# Lauching a simulation on your local computer\n",
    "\n",
    "In this notebook, we choose the parameters of the simulation, and the interaction between the particles, and run it. \n",
    "This assumes that the C++ files is already compiled through the makefile.\n",
    "\n",
    "This notebook also needs to be placed in the same folder as the python files.\n",
    "\n",
    "You might need to install json and subprocess packages, that can be done through the command \"pip install subprocess\" for instance. \n",
    "\n",
    "## 1. Changing the directories names and importing the codes"
   ]
  },
  {
   "cell_type": "code",
   "execution_count": 42,
   "id": "26a093ae",
   "metadata": {},
   "outputs": [],
   "source": [
    "\n",
    "import json\n",
    "import subprocess\n",
    "import numpy as np\n",
    "\n",
    "from LatticeTools import ReadLatticeParticle\n",
    "from LatticeTools import DesignLEL\n",
    "from LatticeTools import LELrepresentation\n",
    "\n",
    "from System import ReadSeveralSystems\n",
    "\n",
    "import matplotlib.pyplot as plt\n",
    "\n",
    "localDirectory = \"/Users/lara/Documents/\"\n",
    "        \n",
    "# We define those directories to run the code from the cluster, this is not needed now \n",
    "remoteFromLocalDirectory = \"/Users/lara/Documents/LPTMS/\"\n",
    "remoteFromLocalDirectoryScratch = \"/Users/lara/Documents/LPTMSscratch/\"\n",
    "remoteDirectory = \"/home/lkoehler/\"\n",
    "remoteDirectoryScratch = \"/Scratch/lkoehler/\"\n",
    "\n",
    "\n",
    "projectFolderName = \"SelfAssembly2/\""
   ]
  },
  {
   "cell_type": "markdown",
   "id": "e4c2ff82",
   "metadata": {},
   "source": [
    "## 2. Loading the lattice(s) you want to use\n",
    "\n",
    "This assumes that the lattice files have been created before "
   ]
  },
  {
   "cell_type": "code",
   "execution_count": 4,
   "id": "d5e2bf57",
   "metadata": {},
   "outputs": [],
   "source": [
    "processLocal = True\n",
    "\n",
    "if processLocal : \n",
    "    directoryLattice = localDirectory+projectFolderName+'/Lattice/'   \n",
    "else :\n",
    "    directoryLattice = remoteDirectory+projectFolderName+'/Lattice/'   \n",
    "    \n",
    "    \n",
    "Cubic = ReadLatticeParticle('Cubic', directoryLattice)  \n",
    "# FCC = ReadLatticeParticle('FaceCenteredCubic', directory)  \n",
    "# BCC = ReadLatticeParticle('BodyCenteredCubic', directory)  \n",
    "Triangular = ReadLatticeParticle('Triangular', directoryLattice)  \n",
    "Square = ReadLatticeParticle('Square', directoryLattice)  \n",
    "Hexagonal = ReadLatticeParticle('Hexagonal', directoryLattice)  "
   ]
  },
  {
   "cell_type": "markdown",
   "id": "ba6344ed",
   "metadata": {},
   "source": [
    "## 3. We choose the system properties and the simulation parameters\n",
    "\n",
    "Here we define the name of the simulation, the number of particles, system size\n",
    "We also choose the annealing procedure, and what will be saved during the simulation\n",
    "\n",
    "### 3.1 Simulation name\n"
   ]
  },
  {
   "cell_type": "code",
   "execution_count": 106,
   "id": "79c8632c",
   "metadata": {},
   "outputs": [],
   "source": [
    "folderResults = '231025Test2'"
   ]
  },
  {
   "cell_type": "markdown",
   "id": "1951a168",
   "metadata": {},
   "source": [
    "### 3.2 System geometry, dimension, and composition\n",
    "\n",
    "Which lattice (triangular, square, cubic)\n",
    "\n",
    "The size of the lattice in each dimension\n",
    "\n",
    "How many particles of each type\n",
    "\n",
    "firstNeighborDistance define on which lattice scales particles interact, this is usually one.\n",
    "secondNeighborDistance defines on which lattice scales the second neighbor density will be measured (this is related to the renormalization project, and never really used)"
   ]
  },
  {
   "cell_type": "code",
   "execution_count": 107,
   "id": "529e7830",
   "metadata": {},
   "outputs": [],
   "source": [
    "lattice = Triangular\n",
    "# lattice = Hexagonal\n",
    "# lattice = Square\n",
    "Nparticles = [50,50] #[50, 50] #[100]  # this is a list of number of particles for each type of particles \n",
    "NparticleTypes = len(Nparticles)\n",
    "Lx = 30\n",
    "Ly = 30\n",
    "Lz = 1\n",
    "firstNeighborDistance = 1\n",
    "secondNeighborDistance = 2"
   ]
  },
  {
   "cell_type": "markdown",
   "id": "6d13a0a9",
   "metadata": {},
   "source": [
    "### 3.3 Annealing  procedure \n",
    "The temperature goes from Temperature_start to Temperature_end, with Ntemperatures steps, spread linearly or logarithmically. Per temperature, there is Nsteps_per_T Monte-Carlo steps. \n",
    "\n",
    "We can also choose how many snapshots are saved per temperature."
   ]
  },
  {
   "cell_type": "code",
   "execution_count": 109,
   "id": "4ed1d33b",
   "metadata": {},
   "outputs": [],
   "source": [
    "Ntemperatures = 100\n",
    "Temperature_start = 7\n",
    "Temperature_end = 1\n",
    "Type_temperature_ramp = 'linear' #'logarithmic'\n",
    "\n",
    "Nsteps_per_T = 200*Lx*Ly*Lz #800\n",
    "\n",
    "N_mes_per_temperatures = 0 #Number of saved snapshot per temperature\n",
    "# Better to choose it such that Nsteps_per_T/ N_mes_per_temperatures is an integer"
   ]
  },
  {
   "cell_type": "markdown",
   "id": "e965882c",
   "metadata": {},
   "source": [
    "### 3.4 Quenching \n",
    "\n",
    "You can do the annealing ramp, and then spend some more MC steps at a final temperature, for instance zero\n",
    "\n",
    "Here you choose which temperature and how much step. If you don't want this, just have 0 quenching steps"
   ]
  },
  {
   "cell_type": "code",
   "execution_count": 15,
   "id": "faccedf2",
   "metadata": {},
   "outputs": [],
   "source": [
    "Temperature_quenching = 0\n",
    "Nsteps_quenching = 0#1e3*Lx*Ly*Lz"
   ]
  },
  {
   "cell_type": "markdown",
   "id": "0e481f1d",
   "metadata": {},
   "source": [
    "### 3.5 Statistics\n",
    "\n",
    "When the final temperatrue is reached, we measure observables, such as the neighbors staitstics, \n",
    "over some more Monte-Carlo steps\n",
    "\n",
    "Here you choose at which temperature the measures are made, and of rhow much steps\n"
   ]
  },
  {
   "cell_type": "code",
   "execution_count": null,
   "id": "ffeb9cd4",
   "metadata": {},
   "outputs": [],
   "source": [
    "\n",
    "Temperature_statistics = 1\n",
    "Naverage = 800*Lx*Ly*Lz\n"
   ]
  },
  {
   "cell_type": "markdown",
   "id": "b5325a2a",
   "metadata": {},
   "source": [
    "### 3.6 Cluster measurements\n",
    "\n",
    "After the statistics, you measure, on a snapshot, properties of the aggregates geometry, such as size,\n",
    "number of vacancies, number of surface. Since it is done on the system at one precise time, you can repeat\n",
    "this measure several time, and run a few MC step in beteween the measurements\n"
   ]
  },
  {
   "cell_type": "code",
   "execution_count": 16,
   "id": "25463694",
   "metadata": {},
   "outputs": [],
   "source": [
    "Ncluster_measurements = 1\n",
    "MC_steps_between_measurements = 10*Lx*Ly*Lz\n",
    "\n"
   ]
  },
  {
   "cell_type": "markdown",
   "id": "d56ab5c8",
   "metadata": {},
   "source": [
    "### 3.7 Monte-Carlo types of move\n",
    "\n",
    "There is three types of moves, mutations, flips, and both at the same type"
   ]
  },
  {
   "cell_type": "code",
   "execution_count": 18,
   "id": "60f6c8f0",
   "metadata": {},
   "outputs": [],
   "source": [
    "\n",
    "mutationRate = 0\n",
    "flipRate = 0.5 \n",
    "swapRate = 0.5 * 1/len(lattice.orientations)\n",
    "flipSwapRate = 0.5-swapRate\n",
    "if flipRate+flipSwapRate+swapRate+mutationRate!=1 :\n",
    "    print(\"Careful, the rates don't sum to 1\")\n"
   ]
  },
  {
   "cell_type": "markdown",
   "id": "8e5fb825",
   "metadata": {},
   "source": [
    "### 3.8 Simulation conditions, what to save, where to run\n",
    "\n"
   ]
  },
  {
   "cell_type": "code",
   "execution_count": 19,
   "id": "64722e37",
   "metadata": {},
   "outputs": [],
   "source": [
    "saveSnapshot = True  #will save images of the system\n",
    "saveEnergies = False\n",
    "saveMCsuccess = False\n",
    "saveTemperatures = False\n",
    "\n",
    "doStatistics = True\n",
    "saveCovariance = True\n",
    "saveExtendedScaffold = True"
   ]
  },
  {
   "cell_type": "markdown",
   "id": "9ac60f49",
   "metadata": {},
   "source": [
    "### 3.9 How many annealing will be repeated for the same LEL \n"
   ]
  },
  {
   "cell_type": "code",
   "execution_count": 110,
   "id": "fc0e1d6d",
   "metadata": {},
   "outputs": [],
   "source": [
    "Nsystems= 2"
   ]
  },
  {
   "attachments": {},
   "cell_type": "markdown",
   "id": "f533f16f",
   "metadata": {},
   "source": [
    "## 4. Choose the interaction matrix \n"
   ]
  },
  {
   "attachments": {
    "InteractionMatrix.jpg": {
     "image/jpeg": "[encoded data removed]"
    }
   },
   "cell_type": "markdown",
   "id": "db1d42e9",
   "metadata": {},
   "source": [
    "![InteractionMatrix.jpg](attachment:InteractionMatrix.jpg)"
   ]
  },
  {
   "cell_type": "markdown",
   "id": "1637ef1a",
   "metadata": {},
   "source": [
    "We first load the design class that will allow to genereate the interaction matrices (the LEL) and visualize it.\n",
    "\n",
    "Caution: the LEL vector given to the C++ programm needs to have the 2-particles sturcture (28 for the hexagons), but also the 1-particle structures (7 for the hexagons). Thus it is a 35-dimensional vector. For the visualization and treatment, only the 28-dimensional vector is used. One needs to convert one to the other depending on the use."
   ]
  },
  {
   "cell_type": "code",
   "execution_count": 26,
   "id": "358e3d7c",
   "metadata": {},
   "outputs": [],
   "source": [
    "designs = DesignLEL(lattice, NparticleTypes)\n",
    "visualisation = LELrepresentation(lattice, NparticleTypes)"
   ]
  },
  {
   "cell_type": "markdown",
   "id": "6482b9f0",
   "metadata": {},
   "source": [
    "### 4.1. Isotropic particles "
   ]
  },
  {
   "cell_type": "code",
   "execution_count": 34,
   "id": "15c63be1",
   "metadata": {},
   "outputs": [
    {
     "data": {
      "image/png": "[encoded data removed]",
      "text/plain": [
       "<Figure size 640x480 with 1 Axes>"
      ]
     },
     "metadata": {},
     "output_type": "display_data"
    }
   ],
   "source": [
    "attraction = 2\n",
    "LEL_isotropic = designs.LEL_sticky_isotropic(attraction) #this is a 35-dimensional vector\n",
    "LEL_isotropic_short = designs.cut_LEL(LEL_isotropic) #this is a 28-dimensional vector\n",
    "visualisation.plot_matrix(LEL_isotropic_short, fullMatrix=False, maxi=10)"
   ]
  },
  {
   "cell_type": "markdown",
   "id": "15113735",
   "metadata": {},
   "source": [
    "### 4.2 Several homomeric particles of variable stickiness"
   ]
  },
  {
   "cell_type": "code",
   "execution_count": 54,
   "id": "c803ba49",
   "metadata": {},
   "outputs": [
    {
     "data": {
      "text/plain": [
       "Text(0.5, 1.0, 'Homomeric attractive particles. Particle 0 with particle 0')"
      ]
     },
     "execution_count": 54,
     "metadata": {},
     "output_type": "execute_result"
    },
    {
     "data": {
      "image/png": "[encoded data removed]",
      "text/plain": [
       "<Figure size 640x480 with 1 Axes>"
      ]
     },
     "metadata": {},
     "output_type": "display_data"
    }
   ],
   "source": [
    "designs = DesignLEL(lattice, 2)\n",
    "visualization = LELrepresentation(lattice, 2)\n",
    "\n",
    "attractions = [6,2]\n",
    "# # attractions = 10\n",
    "particlesEquivalent = False\n",
    "repulsion = 2\n",
    "LEL_homo = designs.LEL_homomeric_particles(attractions, repulsion, particlesEquivalent=particlesEquivalent)\n",
    "LEL_homo_short = designs.cut_LEL(LEL_homo)\n",
    "\n",
    "particle1 = 0 #you can change this\n",
    "particle2 = 0\n",
    "visualization.plot_matrix(LEL_homo_short, p1=particle1, p2=particle2, fullMatrix=False, maxi=20)\n",
    "plt.title('Homomeric attractive particles. Particle '+str(particle1)+' with particle '+str(particle2), fontsize=12)\n"
   ]
  },
  {
   "cell_type": "markdown",
   "id": "e90b2361",
   "metadata": {},
   "source": [
    "### 4.3 Crystalline LEL"
   ]
  },
  {
   "cell_type": "code",
   "execution_count": 57,
   "id": "fe6307b5",
   "metadata": {},
   "outputs": [
    {
     "data": {
      "text/plain": [
       "Text(0.5, 1.0, 'Homomeric attractive particles. Particle 1 with particle 1')"
      ]
     },
     "execution_count": 57,
     "metadata": {},
     "output_type": "execute_result"
    },
    {
     "data": {
      "image/png": "[encoded data removed]",
      "text/plain": [
       "<Figure size 640x480 with 1 Axes>"
      ]
     },
     "metadata": {},
     "output_type": "display_data"
    }
   ],
   "source": [
    "designs = DesignLEL(lattice, 3)\n",
    "visualization = LELrepresentation(lattice, 3)\n",
    "\n",
    "attractions = [6,4,1]\n",
    "particlesEquivalent = True\n",
    "repulsion = 2\n",
    "LEL_crystal_homo = designs.LEL_crystal_homomeric(attractions, repulsion, particlesEquivalent=particlesEquivalent)\n",
    "\n",
    "LEL_crystal_homo_short = designs.cut_LEL(LEL_crystal_homo)\n",
    "\n",
    "particle1 = 1 #you can change this\n",
    "particle2 = 1\n",
    "visualization.plot_matrix(LEL_crystal_homo_short , p1=particle1, p2=particle2, fullMatrix=False, maxi=20)\n",
    "plt.title('Homomeric attractive particles. Particle '+str(particle1)+' with particle '+str(particle2), fontsize=12)\n"
   ]
  },
  {
   "cell_type": "markdown",
   "id": "60cc6d08",
   "metadata": {},
   "source": [
    "### 4.4 Random interaction map of chosen affinity and anisotropy"
   ]
  },
  {
   "cell_type": "code",
   "execution_count": 111,
   "id": "9575703f",
   "metadata": {},
   "outputs": [
    {
     "data": {
      "image/png": "[encoded data removed]",
      "text/plain": [
       "<Figure size 640x480 with 1 Axes>"
      ]
     },
     "metadata": {},
     "output_type": "display_data"
    }
   ],
   "source": [
    "designs = DesignLEL(lattice, NparticleTypes)\n",
    "visualisation = LELrepresentation(lattice, NparticleTypes)\n",
    "\n",
    "affinity = 2\n",
    "anisotropy = 10\n",
    "LEL_random = designs.LEL_random(affinity, anisotropy)\n",
    "LEL_random_short = designs.cut_LEL(LEL_random)\n",
    "\n",
    "\n",
    "visualisation.plot_matrix(LEL_random_short, fullMatrix=False, maxi=10)"
   ]
  },
  {
   "cell_type": "markdown",
   "id": "fcc8ff24",
   "metadata": {},
   "source": [
    "### 4.5 Implicit triangular particles\n",
    "\n",
    "One type of triangular particles"
   ]
  },
  {
   "cell_type": "code",
   "execution_count": 181,
   "id": "b4925a08",
   "metadata": {},
   "outputs": [],
   "source": [
    "designs = DesignLEL(lattice, 1)\n",
    "visualisation = LELrepresentation(lattice, 1)\n",
    "\n",
    "einf = 100\n",
    "AA, BB, CC = -10, einf, einf\n",
    "AC, AB = einf, einf\n",
    "BC = -10\n",
    "\n",
    "LEL_1triangle = designs.LEL_triangle_one_particle(AA, AB, AC, BC, BB, CC)"
   ]
  },
  {
   "cell_type": "markdown",
   "id": "2d3f2c36",
   "metadata": {},
   "source": [
    "Two type of triangular particles. So far, this works but is not well coded and automatized. I need to check what Martin Flament did. "
   ]
  },
  {
   "cell_type": "code",
   "execution_count": 185,
   "id": "332ae8ba",
   "metadata": {},
   "outputs": [
    {
     "data": {
      "image/png": "[encoded data removed]",
      "text/plain": [
       "<Figure size 640x480 with 1 Axes>"
      ]
     },
     "metadata": {},
     "output_type": "display_data"
    }
   ],
   "source": [
    "designs = DesignLEL(lattice, 2)\n",
    "visualisation = LELrepresentation(lattice, 2)\n",
    "\n",
    "einf = 100\n",
    "\n",
    "\n",
    "energies = {}\n",
    "energies['FF'] = -8\n",
    "energies['LK'] = -10\n",
    "energies['FL'] = 2\n",
    "energies['LL'] = 2\n",
    "energies['KK'] = 10\n",
    "energies['FK'] = 10\n",
    "\n",
    "LELlist = []\n",
    "\"\"\"FFL LLK\"\"\"\n",
    "A1A1, B1B1, C1C1 = 'FF', 'FF', 'LL'\n",
    "A1C1, A1B1, B1C1 = 'FL', 'FF', 'FL'\n",
    "\n",
    "A1A2, B1B2, C1C2 = 'FL', 'FL', 'LK'\n",
    "A1C2, A1B2, B1C2 = 'FK', 'FL', 'FK'\n",
    "A2C1, A2B1, B2C1 = 'LL', 'FL', 'LL'\n",
    "\n",
    "A2A2, B2B2, C2C2 = 'LL','LL', 'KK'\n",
    "A2C2, A2B2, B2C2 = 'LK', 'LL', 'LK'\n",
    "\n",
    "elist_ref = [A1A1, B1B1, C1C1, \n",
    "A1C1, A1B1, B1C1,\n",
    "A1A2, B1B2, C1C2,\n",
    "A1C2, A1B2, B1C2,\n",
    "A2C1, A2B1, B2C1,\n",
    "A2A2, B2B2, C2C2,\n",
    "A2C2, A2B2, B2C2]\n",
    "elist_e = []\n",
    "\n",
    "for e in elist_ref:\n",
    "    elist_e.append(energies[e])\n",
    "    \n",
    "A1A1, B1B1, C1C1, A1C1, A1B1, B1C1,A1A2, B1B2, C1C2,A1C2, A1B2, B1C2,A2C1, A2B1, B2C1,A2A2, B2B2, C2C2,A2C2, A2B2, B2C2 = elist_e\n",
    "\n",
    "LEL = designs.LEL_triangle_two_particle(A1A1, A1B1, A1C1, B1C1, B1B1, C1C1, \n",
    "                                  A1A2, A1B2, A1C2, B1C2, B1B2, C1C2,\n",
    "                                  A2C1, A2B1, B2C1,\n",
    "                                  A2A2, A2B2, A2C2, B2C2, B2B2, C2C2,\n",
    "                                  einf=100)\n",
    "LELlist.append(LEL)\n",
    "\n",
    "\"\"\"FLK LLK\"\"\"\n",
    "A1A1, B1B1, C1C1 = 'FF', 'LL', 'KK'\n",
    "A1C1, A1B1, B1C1 = 'FK', 'FL', 'LK'\n",
    "\n",
    "A1A2, B1B2, C1C2 = 'FL', 'LL', 'KK'\n",
    "A1C2, A1B2, B1C2 = 'FK', 'FL', 'LK'\n",
    "A2C1, A2B1, B2C1 = 'LK', 'LL', 'LK'\n",
    "\n",
    "A2A2, B2B2, C2C2 = 'LL','LL', 'KK'\n",
    "A2C2, A2B2, B2C2 = 'LK', 'LL', 'LK'\n",
    "\n",
    "elist_ref = [A1A1, B1B1, C1C1, \n",
    "A1C1, A1B1, B1C1,\n",
    "A1A2, B1B2, C1C2,\n",
    "A1C2, A1B2, B1C2,\n",
    "A2C1, A2B1, B2C1,\n",
    "A2A2, B2B2, C2C2,\n",
    "A2C2, A2B2, B2C2]\n",
    "elist_e = []\n",
    "\n",
    "for e in elist_ref:\n",
    "    elist_e.append(energies[e])\n",
    "    \n",
    "A1A1, B1B1, C1C1, A1C1, A1B1, B1C1,A1A2, B1B2, C1C2,A1C2, A1B2, B1C2,A2C1, A2B1, B2C1,A2A2, B2B2, C2C2,A2C2, A2B2, B2C2 = elist_e\n",
    "\n",
    "LEL_2triangle = designs.LEL_triangle_two_particle(A1A1, A1B1, A1C1, B1C1, B1B1, C1C1, \n",
    "                                  A1A2, A1B2, A1C2, B1C2, B1B2, C1C2,\n",
    "                                  A2C1, A2B1, B2C1,\n",
    "                                  A2A2, A2B2, A2C2, B2C2, B2B2, C2C2,\n",
    "                                  einf=100)\n",
    "\n",
    "visualisation.plot_matrix(designs.cut_LEL(LEL_2triangle), fullMatrix=False, p1=1, p2=1)\n"
   ]
  },
  {
   "cell_type": "markdown",
   "id": "d4b5effb",
   "metadata": {},
   "source": [
    "### 4.6 Camembert particles\n",
    "\n",
    "Particles can be designed to assemble into camembert, or zig-zag fibers. It is also possible to have two types of particles, one neutral, and one that assembles into camembert, to introduce the particles progressively during the annealing by allowing mutation between particles types. \n",
    "\n",
    "For this specific particles, we reperesent the interaction matrix with a specific colormap, instead of the energy levels, but this is optional."
   ]
  },
  {
   "cell_type": "code",
   "execution_count": 119,
   "id": "413092de",
   "metadata": {},
   "outputs": [
    {
     "data": {
      "image/png": "[encoded data removed]",
      "text/plain": [
       "<Figure size 640x480 with 1 Axes>"
      ]
     },
     "metadata": {},
     "output_type": "display_data"
    }
   ],
   "source": [
    "designs = DesignLEL(lattice, 1)\n",
    "visualisation = LELrepresentation(lattice, 1)\n",
    "\n",
    "ecrystal = -8.5+12#0.5\n",
    "eline = -16+12 #-8\n",
    "sigma = 6\n",
    "sigma_unfav = 6\n",
    "einf = 15\n",
    "# # ez = 0\n",
    "# # chiral = False\n",
    "\n",
    "LEL_camembert = designs.LEL_camembert2D(ecrystal, eline, sigma, sigma_unfav, einf)\n",
    "LEL_camembert_short = designs.cut_LEL(LEL_camembert)\n",
    "\n",
    "# LEL = designs.LEL_camembert3D(ecrystal, eline, sigma, sigma_unfav, einf, ez, chiral)\n",
    "\n",
    "LEL_fiberzigzag = designs.LEL_fiber_zigzag_2D(ecrystal, eline, sigma, sigma_unfav, einf)\n",
    "LEL_fiberzigzag_short = designs.cut_LEL(LEL_fiberzigzag)\n",
    "\n",
    "# LEL = designs.LEL_camembert2D_and_passive(ecrystal, eline, sigma, sigma_unfav, einf)\n",
    "\n",
    "\n",
    "color_map_camembert = designs.get_colormap_camembert()\n",
    "visualisation.plot_matrix(LEL_camembert_short, fullMatrix=False, colordict=color_map)"
   ]
  },
  {
   "cell_type": "code",
   "execution_count": null,
   "id": "4540d690",
   "metadata": {},
   "outputs": [],
   "source": [
    "\n",
    "\"\"\"Test mutation\"\"\"\n",
    "# LEL = designs.LEL_change_population_two_particles(e1,e2)\n",
    "# LELlist = [LEL]"
   ]
  },
  {
   "cell_type": "markdown",
   "id": "5dd11c65",
   "metadata": {},
   "source": [
    "### 4.7 Some specific aggregate geometries"
   ]
  },
  {
   "cell_type": "code",
   "execution_count": 82,
   "id": "3e5bda32",
   "metadata": {},
   "outputs": [
    {
     "data": {
      "text/plain": [
       "Text(0.5, 1.0, 'crystallite')"
      ]
     },
     "execution_count": 82,
     "metadata": {},
     "output_type": "execute_result"
    },
    {
     "data": {
      "image/png": "[encoded data removed]",
      "text/plain": [
       "<Figure size 640x480 with 1 Axes>"
      ]
     },
     "metadata": {},
     "output_type": "display_data"
    }
   ],
   "source": [
    "designs = DesignLEL(lattice, 1)\n",
    "visualisation = LELrepresentation(lattice, 1)\n",
    "\n",
    "examples_names = ['liquid', 'crystal', 'sponge_sparse', 'fiber_dimer','crystallite','micelle', 'cycle','gas']\n",
    "\n",
    "i=4\n",
    "\n",
    "stickiness=3\n",
    "repulsion=0\n",
    "LEL_example = designs.LEL_fixed_point(examples_names[i], stickiness, repulsion)   \n",
    "\n",
    "visualisation.plot_matrix(designs.cut_LEL(LEL_example), maxi=10, fullMatrix=False)\n",
    "plt.title(examples_names[i], fontsize=12)\n"
   ]
  },
  {
   "cell_type": "markdown",
   "id": "4f1ce523",
   "metadata": {},
   "source": [
    "### 4.8 Favor only some of the interactions\n",
    "\n",
    "The LEL with n_fav favored interactions where all computed in a non-redundant way previously, and this has been saved in the \"all_two_levels\" files --> Ask me later if interested"
   ]
  },
  {
   "cell_type": "code",
   "execution_count": 175,
   "id": "54bda0ef",
   "metadata": {},
   "outputs": [],
   "source": [
    "n_fav=3\n",
    "attractive = -10\n",
    "repulsive = 0\n",
    "\n",
    "#for i in range (134):\n",
    "#     LEL_nfav = designs.LEL_two_levels_unique(n_fav, attractive, repulsive, i, local=False)"
   ]
  },
  {
   "cell_type": "markdown",
   "id": "6aa3d64d",
   "metadata": {},
   "source": [
    "### 4.9 Choose the LEL manually\n",
    "In this case, the function LEL_predetermined takes care of changing the size of the LEL to make it compatible with C++."
   ]
  },
  {
   "cell_type": "code",
   "execution_count": 172,
   "id": "1bbdeced",
   "metadata": {},
   "outputs": [],
   "source": [
    "LEL_manual_short = np.array([  0.,  0.,  0.,  0.,  0.,  0.,\n",
    "         0.,  0.,  0.,  1., -1., -5., -3., -2., -3., -3., -5., -4., -1.,\n",
    "        -1., -3., -0.,  1.,  2.,  0., -0.,  0.,  3.])\n",
    "LEL_manual = designs.LEL_predetermined(LEL_manual_short)"
   ]
  },
  {
   "cell_type": "markdown",
   "id": "9635995d",
   "metadata": {},
   "source": [
    "### 4.9 Choose the interaction matrices you want"
   ]
  },
  {
   "cell_type": "code",
   "execution_count": 112,
   "id": "99f6d246",
   "metadata": {},
   "outputs": [],
   "source": [
    "#LELlist = [LEL_random, LEL_example, LEL_camembert]\n",
    "LELlist = [LEL_random]"
   ]
  },
  {
   "cell_type": "markdown",
   "id": "be546ae1",
   "metadata": {},
   "source": [
    "## 5. Write the parameters file\n",
    "\n",
    "Frist create a dictionnary with all the parameters"
   ]
  },
  {
   "cell_type": "code",
   "execution_count": 113,
   "id": "d3023a3c",
   "metadata": {},
   "outputs": [],
   "source": [
    "lattice_name = lattice.name\n",
    "\n",
    "if processLocal :\n",
    "    directoryInputs = localDirectory + projectFolderName + \"Lattice/\"\n",
    "    directoryResults = localDirectory + projectFolderName + \"Results/\"+  folderResults+\"/\"\n",
    "    directoryInputsRead = localDirectory + projectFolderName + \"Lattice/\"\n",
    "    directoryResultsRead = localDirectory + projectFolderName + \"Results/\"+  folderResults+\"/\"\n",
    "        \n",
    "else :\n",
    "    directoryInputs = remoteDirectory + projectFolderName+ \"Lattice/\"\n",
    "    directoryResults = remoteDirectoryScratch + projectFolderName + \"Results/\"+ folderResults+\"/\"\n",
    "    directoryInputsRead = remoteFromLocalDirectory + projectFolderName+ \"Lattice/\"\n",
    "    directoryResultsRead = remoteFromLocalDirectoryScratch + projectFolderName + \"Results/\"+ folderResults+\"/\"\n",
    "\n",
    "myParameters={}  \n",
    "    \n",
    "\"\"\"Geometry of the system \"\"\"\n",
    "myParameters[\"lattice\"]=lattice_name #string\n",
    "myParameters[\"Lx\"]=Lx #int\n",
    "myParameters[\"Ly\"]=Ly #int\n",
    "myParameters[\"Lz\"]=Lz #int\n",
    "myParameters[\"firstNeighborDistance\"] = firstNeighborDistance\n",
    "myParameters[\"secondNeighborDistance\"] = secondNeighborDistance\n",
    "\n",
    "\n",
    "\"\"\"Composition of the system\"\"\"\n",
    "myParameters[\"NparticleTypes\"]= NparticleTypes #int\n",
    "myParameters[\"Nparticles\"]=Nparticles # list of int of the size NparticleTypes\n",
    "\n",
    "\"\"\"Montecarlo rate\"\"\"\n",
    "myParameters[\"FlipRate\"] = flipRate\n",
    "myParameters[\"SwapRate\"] = swapRate\n",
    "myParameters[\"FlipSwapRate\"] = flipSwapRate\n",
    "myParameters[\"MutationRate\"] = mutationRate\n",
    "#the sum has to be one \n",
    "\n",
    "\"\"\"Annealing parameters\"\"\"\n",
    "myParameters[\"Nsteps_per_T\"]=Nsteps_per_T #int\n",
    "myParameters[\"Ntemperatures\"]=Ntemperatures #int\n",
    "myParameters[\"Temperature_start\"]=Temperature_start #float\n",
    "myParameters[\"Temperature_end\"]=Temperature_end \n",
    "myParameters[\"Type_temperature_ramp\"]=Type_temperature_ramp #string\n",
    "\n",
    "\"\"\"Quenching parameters\"\"\"\n",
    "myParameters[\"Nsteps_quenching\"]=Nsteps_quenching #int\n",
    "myParameters[\"Temperature_quenching\"]=Temperature_quenching\n",
    "\n",
    "\n",
    "\"\"\"Measurement parameters - equlibration info\"\"\"\n",
    "myParameters[\"saveSnapshot\"] = saveSnapshot #bool\n",
    "myParameters[\"Nmes_per_T\"] = N_mes_per_temperatures #number of snapshot along \n",
    "    # the annealing -> usually zero, unless you want to make videos\n",
    "myParameters[\"saveTemperatures\"] = saveTemperatures #bool\n",
    "myParameters[\"saveEnergies\"] = saveEnergies #bool\n",
    "# if True, will save successive values of energy during the annealing, quenching, and statistics\n",
    "myParameters[\"saveMCsuccess\"] = saveMCsuccess\n",
    "\n",
    "\n",
    "\"\"\"Measurement parameters - statistics about system composition\"\"\"\n",
    "myParameters[\"doStatistics\"] = doStatistics\n",
    "myParameters[\"Temperature_statistics\"]=Temperature_statistics\n",
    "myParameters[\"Naverage\"]=Naverage #int\n",
    "\n",
    "myParameters[\"saveCovariance\"] = saveCovariance \n",
    "myParameters[\"saveExtendedScaffold\"] = saveExtendedScaffold# only useful for renormalisation\n",
    "\n",
    "\n",
    "\"\"\"Measurement parameters - statistics about clusters\"\"\"\n",
    "myParameters[\"Ncluster_measurements\"]=Ncluster_measurements #int\n",
    "myParameters[\"MC_steps_between_measurements\"]=MC_steps_between_measurements"
   ]
  },
  {
   "cell_type": "markdown",
   "id": "4ae099c5",
   "metadata": {},
   "source": [
    "The functions that will save the parameters file and LEL file in the result folder."
   ]
  },
  {
   "cell_type": "code",
   "execution_count": 9,
   "id": "b44b290c",
   "metadata": {},
   "outputs": [],
   "source": [
    "def save_parameters_file(directoryResults, ide=None):\n",
    "    directoryResults_mkdir = directoryResults\n",
    "    directoryResults = directoryResults+str(ide)\n",
    "    \n",
    "    try :\n",
    "        \"\"\"We check if the parameter file exists already\"\"\"\n",
    "        jsonFile = open(directoryResults+\"input_parameters.json\", \"r\")\n",
    "        print('Parameters file '+directoryResults+\"input_parameters.json\"+' already exists\\nWe do nothing')\n",
    "        saved = False\n",
    "    except:\n",
    "        try :\n",
    "            \"\"\"The folder exists\"\"\"\n",
    "            jsonFile = open(directoryResults+\"input_parameters.json\", \"w\")\n",
    "        except :\n",
    "            \"\"\"We need to create the folder\"\"\"\n",
    "            print('We create folder '+directoryResults)\n",
    "            subprocess.run(['mkdir', directoryResults_mkdir])\n",
    "            jsonFile = open(directoryResults+\"input_parameters.json\", \"w\")\n",
    "            \n",
    "        jsonFile.write(jsonString)\n",
    "        jsonFile.close()\n",
    "        saved = True\n",
    "    return(saved)\n",
    "\n",
    "\n",
    "def save_LEL_file(directoryResults, LEL):\n",
    "    file_LEL=open(directoryResults+myParameters[\"LELfileSuffix\"],'w')       \n",
    "    energy_string=''\n",
    "    for e in LEL:\n",
    "        energy_string+=str(e)+' '\n",
    "    energy_string+=\"#END\"\n",
    "    file_LEL.write(energy_string+\"\\n\")       \n",
    "    \n",
    "   "
   ]
  },
  {
   "cell_type": "markdown",
   "id": "23948212",
   "metadata": {},
   "source": [
    "## 6. Run the simulation\n",
    "The function that uses subprocess to launch the C++ executable with the parameter file"
   ]
  },
  {
   "cell_type": "code",
   "execution_count": null,
   "id": "21ae8981",
   "metadata": {},
   "outputs": [],
   "source": [
    "def launch_simu(directoryResults):\n",
    "    try :\n",
    "        open(directoryResults+\"_LEL_chosen.txt\", \"r\")\n",
    "        already_done = True\n",
    "    except :\n",
    "        already_done = False\n",
    "        \n",
    "    if already_done :\n",
    "        print(directoryResults, 'aldready ran')\n",
    "    else :\n",
    "        subprocess.run([\"./Sys\", directoryResults])    "
   ]
  },
  {
   "cell_type": "code",
   "execution_count": 114,
   "id": "7c485f47",
   "metadata": {},
   "outputs": [
    {
     "name": "stdout",
     "output_type": "stream",
     "text": [
      "We create folder /Users/lara/Documents/SelfAssembly2/Results/231025Test2/0\n",
      "Energies : 0 0 0 0 0 0 0 0 0 0 0 0 0 0 0 0 0 0 0 0 0 0 0 0 0 0 17.6415 -6.62333 7.39985 11.0359 17.4294 11.6013 -9.17084 15.6492 3.95096 19.3444 -9.0101 6.53554 -6.28045 -6.88708 7.55584 25.9206 21.2027 14.6404 11.395 15.8401 -6.18797 -13.5798 7.84321 -2.34712 -1.67555 5.11356 -4.16097 -3.78812 0.757836 -3.11182 3.18702 22.6761 -6.99217 4.97409 21.3209 10.5175 3.88133 10.9139 -11.7126 14.2135 -5.22633 -15.9469 4.7456 10.2075 12.086 0.422052 -1.4209 6.32956 -20.8927 9.95478 5.84763 -1.32848 9.34803 20.2494 14.4782 20.3561 10.0906 5.77106 9.08651 -10.014 -9.91576 7.66122 17.6556 -11.6855 1.95365 -2.32584 -6.4323 -5.67994 7.31651 0.741775 9.42674 11.6463 8.10308 -15.722 19.7639 16.5793 15.0071 -0.399577 \n"
     ]
    },
    {
     "name": "stderr",
     "output_type": "stream",
     "text": [
      "30*30*1 Triangular lattice is initialized: 0 seconds\n"
     ]
    },
    {
     "name": "stdout",
     "output_type": "stream",
     "text": [
      "The density of particles is 0.111111 -> 100 particles\n",
      "Energy per particle : 1.29\n"
     ]
    },
    {
     "name": "stderr",
     "output_type": "stream",
     "text": [
      "Annealing: 245 seconds\n",
      "Quenching: 0 seconds\n"
     ]
    },
    {
     "name": "stdout",
     "output_type": "stream",
     "text": [
      "Energy per particle : -18.78\n",
      "Energy per particle : -18.78\n",
      "3 clusters in this system\n",
      "Energies : 0 0 0 0 0 0 0 0 0 0 0 0 0 0 0 0 0 0 0 0 0 0 0 0 0 0 17.6415 -6.62333 7.39985 11.0359 17.4294 11.6013 -9.17084 15.6492 3.95096 19.3444 -9.0101 6.53554 -6.28045 -6.88708 7.55584 25.9206 21.2027 14.6404 11.395 15.8401 -6.18797 -13.5798 7.84321 -2.34712 -1.67555 5.11356 -4.16097 -3.78812 0.757836 -3.11182 3.18702 22.6761 -6.99217 4.97409 21.3209 10.5175 3.88133 10.9139 -11.7126 14.2135 -5.22633 -15.9469 4.7456 10.2075 12.086 0.422052 -1.4209 6.32956 -20.8927 9.95478 5.84763 -1.32848 9.34803 20.2494 14.4782 20.3561 10.0906 5.77106 9.08651 -10.014 -9.91576 7.66122 17.6556 -11.6855 1.95365 -2.32584 -6.4323 -5.67994 7.31651 0.741775 9.42674 11.6463 8.10308 -15.722 19.7639 16.5793 15.0071 -0.399577 \n"
     ]
    },
    {
     "name": "stderr",
     "output_type": "stream",
     "text": [
      "Statistics during 720000 MC steps at T=1.000000kT: 19 seconds\n",
      "Cluster measurements (1 measures): 0 seconds\n",
      "Simulation duration: 267 seconds\n",
      "30*30*1 Triangular lattice is initialized: 0 seconds\n"
     ]
    },
    {
     "name": "stdout",
     "output_type": "stream",
     "text": [
      "The density of particles is 0.111111 -> 100 particles\n",
      "Energy per particle : 2.58\n"
     ]
    },
    {
     "name": "stderr",
     "output_type": "stream",
     "text": [
      "Annealing: 238 seconds\n",
      "Quenching: 0 seconds\n"
     ]
    },
    {
     "name": "stdout",
     "output_type": "stream",
     "text": [
      "Energy per particle : -7.62\n",
      "Energy per particle : -7.73\n",
      "3 clusters in this system\n",
      "Energies : 0 0 0 0 0 0 0 0 0 0 0 0 0 0 0 0 0 0 0 0 0 0 0 0 0 0 17.6415 -6.62333 7.39985 11.0359 17.4294 11.6013 -9.17084 15.6492 3.95096 19.3444 -9.0101 6.53554 -6.28045 -6.88708 7.55584 25.9206 21.2027 14.6404 11.395 15.8401 -6.18797 -13.5798 7.84321 -2.34712 -1.67555 5.11356 -4.16097 -3.78812 0.757836 -3.11182 3.18702 22.6761 -6.99217 4.97409 21.3209 10.5175 3.88133 10.9139 -11.7126 14.2135 -5.22633 -15.9469 4.7456 10.2075 12.086 0.422052 -1.4209 6.32956 -20.8927 9.95478 5.84763 -1.32848 9.34803 20.2494 14.4782 20.3561 10.0906 5.77106 9.08651 -10.014 -9.91576 7.66122 17.6556 -11.6855 1.95365 -2.32584 -6.4323 -5.67994 7.31651 0.741775 9.42674 11.6463 8.10308 -15.722 19.7639 16.5793 15.0071 -0.399577 \n"
     ]
    },
    {
     "name": "stderr",
     "output_type": "stream",
     "text": [
      "Statistics during 720000 MC steps at T=1.000000kT: 16 seconds\n",
      "Cluster measurements (1 measures): 0 seconds\n",
      "Simulation duration: 256 seconds\n",
      "30*30*1 Triangular lattice is initialized: 0 seconds\n"
     ]
    },
    {
     "name": "stdout",
     "output_type": "stream",
     "text": [
      "The density of particles is 0.111111 -> 100 particles\n",
      "Energy per particle : 1.66\n",
      "Energy per particle : -32.14\n"
     ]
    },
    {
     "name": "stderr",
     "output_type": "stream",
     "text": [
      "Annealing: 217 seconds\n",
      "Quenching: 0 seconds\n"
     ]
    },
    {
     "name": "stdout",
     "output_type": "stream",
     "text": [
      "Energy per particle : -32.14\n",
      "2 clusters in this system\n",
      "Energies : 0 0 0 0 0 0 0 0 0 0 0 0 0 0 0 0 0 0 0 0 0 0 0 0 0 0 17.6415 -6.62333 7.39985 11.0359 17.4294 11.6013 -9.17084 15.6492 3.95096 19.3444 -9.0101 6.53554 -6.28045 -6.88708 7.55584 25.9206 21.2027 14.6404 11.395 15.8401 -6.18797 -13.5798 7.84321 -2.34712 -1.67555 5.11356 -4.16097 -3.78812 0.757836 -3.11182 3.18702 22.6761 -6.99217 4.97409 21.3209 10.5175 3.88133 10.9139 -11.7126 14.2135 -5.22633 -15.9469 4.7456 10.2075 12.086 0.422052 -1.4209 6.32956 -20.8927 9.95478 5.84763 -1.32848 9.34803 20.2494 14.4782 20.3561 10.0906 5.77106 9.08651 -10.014 -9.91576 7.66122 17.6556 -11.6855 1.95365 -2.32584 -6.4323 -5.67994 7.31651 0.741775 9.42674 11.6463 8.10308 -15.722 19.7639 16.5793 15.0071 -0.399577 \n"
     ]
    },
    {
     "name": "stderr",
     "output_type": "stream",
     "text": [
      "Statistics during 720000 MC steps at T=1.000000kT: 16 seconds\n",
      "Cluster measurements (1 measures): 0 seconds\n",
      "Simulation duration: 234 seconds\n",
      "30*30*1 Triangular lattice is initialized: 0 seconds\n"
     ]
    },
    {
     "name": "stdout",
     "output_type": "stream",
     "text": [
      "The density of particles is 0.111111 -> 100 particles\n",
      "Energy per particle : 1.83\n"
     ]
    },
    {
     "name": "stderr",
     "output_type": "stream",
     "text": [
      "Annealing: 214 seconds\n",
      "Quenching: 0 seconds\n"
     ]
    },
    {
     "name": "stdout",
     "output_type": "stream",
     "text": [
      "Energy per particle : -20.05\n",
      "Energy per particle : -20.1\n",
      "2 clusters in this system\n"
     ]
    },
    {
     "name": "stderr",
     "output_type": "stream",
     "text": [
      "Statistics during 720000 MC steps at T=1.000000kT: 16 seconds\n",
      "Cluster measurements (1 measures): 0 seconds\n",
      "Simulation duration: 232 seconds\n"
     ]
    }
   ],
   "source": [
    "i=0\n",
    "\n",
    "for LEL in LELlist:\n",
    "    \n",
    "    \"\"\"If you want the first temperature to scale like the maximal energy\"\"\"\n",
    "    Temperature_start = np.max(np.abs(LEL))\n",
    "        \n",
    "    for n in range (i*Nsystems, (i+1)*Nsystems):\n",
    "        \n",
    "        \"\"\"Saving parameters\"\"\"\n",
    "        myParameters[\"directoryInputs\"]=directoryInputs #string\n",
    "        myParameters[\"directoryResults\"]=directoryResults +str(n) #string\n",
    "        myParameters[\"directoryResultsRead\"]=directoryResultsRead +str(n)#string\n",
    "        myParameters[\"directoryInputsRead\"]=directoryInputsRead #string\n",
    "        myParameters[\"LELfileSuffix\"] = '_LEL.txt' #string\n",
    "        \n",
    "        \"\"\"If you want the first temperature to scale like the maximal energy\"\"\"\n",
    "        myParameters[\"Temperature_start\"]=Temperature_start\n",
    "        \n",
    "        \n",
    "        jsonString = json.dumps(myParameters)    \n",
    "        saved = save_parameters_file(directoryResults ,n)\n",
    "        save_LEL_file(directoryResults +str(n), LEL)\n",
    "        launch_simu(directoryResults +str(n))\n",
    "        \n",
    "            \n",
    "    i+=1\n"
   ]
  },
  {
   "cell_type": "markdown",
   "id": "5d7d7738",
   "metadata": {},
   "source": [
    "## 7. Look at the results\n",
    "\n",
    "### 7.1. Load the results\n",
    "This uses the ReadSeveralSystems class"
   ]
  },
  {
   "cell_type": "code",
   "execution_count": 129,
   "id": "d00105ec",
   "metadata": {},
   "outputs": [
    {
     "name": "stdout",
     "output_type": "stream",
     "text": [
      "Load  /Users/lara/Documents/SelfAssembly2/Results/231025Test\n",
      "15 Nsimu in this folder\n",
      "1% loaded in 0.0 min\n",
      "21% loaded in 0.0 min\n",
      "41% loaded in 0.0 min\n",
      "61% loaded in 0.0 min\n",
      "81% loaded in 0.0 min\n"
     ]
    }
   ],
   "source": [
    "name = '231025Test'\n",
    "#name = '231025Test2'\n",
    "R = ReadSeveralSystems(name, local=True)"
   ]
  },
  {
   "cell_type": "markdown",
   "id": "4ca90b1d",
   "metadata": {},
   "source": [
    "### 7.2. Visualize the system state \n",
    "\n",
    "It is possible to choose the representation of the particle's orientation (either colors or arrows, or triangles instead of hexagons if the simulation concerns triangular particles)"
   ]
  },
  {
   "cell_type": "code",
   "execution_count": 178,
   "id": "ae895c7b",
   "metadata": {},
   "outputs": [
    {
     "data": {
      "image/png": "[encoded data removed]",
      "text/plain": [
       "<Figure size 700x700 with 1 Axes>"
      ]
     },
     "metadata": {},
     "output_type": "display_data"
    }
   ],
   "source": [
    "index = 0\n",
    "representation = 'colored'#'colored' 'arrowed' 'triangle'\n",
    "R.plot_state(index, representation=representation)"
   ]
  },
  {
   "cell_type": "markdown",
   "id": "f3ec7f13",
   "metadata": {},
   "source": [
    "It is also possible to visualize the contacts between particles, colorcoded by their energy, or the type of the contacts through a specific colormap. "
   ]
  },
  {
   "cell_type": "code",
   "execution_count": 180,
   "id": "9b962e9c",
   "metadata": {},
   "outputs": [
    {
     "data": {
      "image/png": "[encoded data removed]",
      "text/plain": [
       "<Figure size 700x700 with 1 Axes>"
      ]
     },
     "metadata": {},
     "output_type": "display_data"
    }
   ],
   "source": [
    "index = 10\n",
    "color_map_contacts= color_map_camembert #None\n",
    "\n",
    "R.plot_state(index, representation='arrowed', plot_contact=True, color_map_contacts=color_map_contacts)"
   ]
  },
  {
   "cell_type": "markdown",
   "id": "09ccf792",
   "metadata": {},
   "source": [
    "### 7.3 Visualize the density map\n",
    "\n",
    "Quantifies the proportion of first ($\\mathbf{c}$) and second ($\\mathbf{d}$) neighbors contacts."
   ]
  },
  {
   "cell_type": "code",
   "execution_count": 142,
   "id": "21e77548",
   "metadata": {},
   "outputs": [
    {
     "data": {
      "text/plain": [
       "Text(0.5, 1.0, 'Second neighbors contacts')"
      ]
     },
     "execution_count": 142,
     "metadata": {},
     "output_type": "execute_result"
    },
    {
     "data": {
      "image/png": "[encoded data removed]",
      "text/plain": [
       "<Figure size 640x480 with 1 Axes>"
      ]
     },
     "metadata": {},
     "output_type": "display_data"
    },
    {
     "data": {
      "image/png": "[encoded data removed]",
      "text/plain": [
       "<Figure size 640x480 with 1 Axes>"
      ]
     },
     "metadata": {},
     "output_type": "display_data"
    }
   ],
   "source": [
    "c, dc = R.measure('c', indices = range(5,10) )\n",
    "d, dd = R.measure('d', indices = range(5,10) )\n",
    "\n",
    "visualisation.plot_matrix(c, vectorIsLEL=False, fullMatrix=False, maxi=0.05)\n",
    "plt.title('First neighbors contacts', fontsize=12)\n",
    "visualisation.plot_matrix(d, vectorIsLEL=False, fullMatrix=False, maxi=0.05)\n",
    "plt.title('Second neighbors contacts', fontsize=12)\n"
   ]
  },
  {
   "cell_type": "markdown",
   "id": "c82c4348",
   "metadata": {},
   "source": [
    "### 7.4 Measure information about the cluster geometries "
   ]
  },
  {
   "cell_type": "code",
   "execution_count": 169,
   "id": "c36e2d6a",
   "metadata": {},
   "outputs": [
    {
     "name": "stdout",
     "output_type": "stream",
     "text": [
      "The cluster size is 62.7 +- 31.17\n",
      "The cluster volume is 74.21 +- 37.17\n",
      "The maximal cluster size is 78.8 +- 1.6\n",
      "The vacancies size per particle is 0.15 +- 0.08\n",
      "The average hole sizes is 1.03 +- 0.05\n",
      "The number of holes per particle is 0.14 +- 0.07\n",
      "The surface to volume ratio is 0.69 +- 0.56\n",
      "The sphericity is 0.67 +- 0.16\n"
     ]
    }
   ],
   "source": [
    "R.load_cluster_statistics()\n",
    "indices = range(5,10)\n",
    "\n",
    "\n",
    "measures =  ['fullVolume','totalVolume' ,'sizeMax' ,\n",
    "             'porosity','holeSize' ,'holesPerParticle',\n",
    "             'savRatio','sphericity']\n",
    "explanations = ['cluster size', 'cluster volume', 'maximal cluster size',\n",
    "               'vacancies size per particle', 'average hole sizes', 'number of holes per particle',\n",
    "                'surface to volume ratio', 'sphericity' ]\n",
    "\n",
    "\n",
    "for k in range(len(measures)):\n",
    "    x, dx = R.measure_cluster_information(measures[k],indices)\n",
    "    print(\"The \"+explanations[k]+\" is \"+str(round(x,2))+\" +- \"+str(round(dx,2))+\"\")\n"
   ]
  }
 ],
 "metadata": {
  "kernelspec": {
   "display_name": "Python 3 (ipykernel)",
   "language": "python",
   "name": "python3"
  },
  "language_info": {
   "codemirror_mode": {
    "name": "ipython",
    "version": 3
   },
   "file_extension": ".py",
   "mimetype": "text/x-python",
   "name": "python",
   "nbconvert_exporter": "python",
   "pygments_lexer": "ipython3",
   "version": "3.10.9"
  }
 },
 "nbformat": 4,
 "nbformat_minor": 5
}
